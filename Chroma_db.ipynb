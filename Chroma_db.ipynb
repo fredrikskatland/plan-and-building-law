{
 "cells": [
  {
   "cell_type": "code",
   "execution_count": null,
   "metadata": {},
   "outputs": [],
   "source": [
    "# Building vector db from sections"
   ]
  },
  {
   "cell_type": "code",
   "execution_count": 2,
   "metadata": {},
   "outputs": [],
   "source": [
    "import streamlit as st\n",
    "\n",
    "from langchain.callbacks import StreamlitCallbackHandler\n",
    "from langchain.agents import OpenAIFunctionsAgent, AgentExecutor\n",
    "from langchain.agents.agent_toolkits import create_retriever_tool\n",
    "from langchain.agents.openai_functions_agent.agent_token_buffer_memory import (\n",
    "    AgentTokenBufferMemory,\n",
    ")\n",
    "from langchain.chat_models import ChatOpenAI\n",
    "from langchain.schema import SystemMessage, AIMessage, HumanMessage\n",
    "from langchain.prompts import MessagesPlaceholder\n",
    "from langsmith import Client\n",
    "from langchain.document_loaders import DirectoryLoader\n",
    "from langchain.text_splitter import RecursiveCharacterTextSplitter\n",
    "from langchain.embeddings import OpenAIEmbeddings\n",
    "from langchain.vectorstores import Chroma\n",
    "import os"
   ]
  },
  {
   "cell_type": "code",
   "execution_count": 3,
   "metadata": {},
   "outputs": [],
   "source": [
    "local = True"
   ]
  },
  {
   "cell_type": "code",
   "execution_count": 5,
   "metadata": {},
   "outputs": [],
   "source": [
    "def configure_retriever():\n",
    "    if not os.path.exists('./PlanAndBuilding_chroma_db'):\n",
    "        #print(\"does not exists\")\n",
    "        loader = DirectoryLoader(\"./sections\")\n",
    "        docs = loader.load()\n",
    "        if local:\n",
    "            embeddings = OpenAIEmbeddings()\n",
    "        else:\n",
    "            embeddings = OpenAIEmbeddings(openai_api_key=st.secrets[\"openai_api_key\"])\n",
    "\n",
    "        docsearch = Chroma.from_documents(docs, embeddings, persist_directory=\"./PlanAndBuilding_chroma_db\")\n",
    "        print(\"Persisting to disk: PlanAndBuilding_chroma_db\")\n",
    "        docsearch.persist()\n",
    "\n",
    "        retriever = docsearch.as_retriever()\n",
    "\n",
    "        return retriever\n",
    "    else:\n",
    "        if local:\n",
    "            embeddings = OpenAIEmbeddings()\n",
    "        else:\n",
    "            embeddings = OpenAIEmbeddings(openai_api_key=st.secrets[\"openai_api_key\"])\n",
    "        # load from disk\n",
    "        print(\"loading from disk: PlanAndBuilding_chroma_db\")\n",
    "        docsearch = Chroma(persist_directory=\"./PlanAndBuilding_chroma_db\", embedding_function=embeddings)\n",
    "        retriever = docsearch.as_retriever()\n",
    "        return retriever"
   ]
  },
  {
   "cell_type": "code",
   "execution_count": 6,
   "metadata": {},
   "outputs": [
    {
     "name": "stdout",
     "output_type": "stream",
     "text": [
      "Persisting to disk: PlanAndBuilding_chroma_db\n"
     ]
    },
    {
     "data": {
      "text/plain": [
       "VectorStoreRetriever(tags=['Chroma', 'OpenAIEmbeddings'], metadata=None, vectorstore=<langchain.vectorstores.chroma.Chroma object at 0x00000202AA46FEE0>, search_type='similarity', search_kwargs={})"
      ]
     },
     "execution_count": 6,
     "metadata": {},
     "output_type": "execute_result"
    }
   ],
   "source": [
    "configure_retriever()"
   ]
  },
  {
   "cell_type": "code",
   "execution_count": 8,
   "metadata": {},
   "outputs": [],
   "source": [
    "system_message = SystemMessage(\n",
    "    content=(\n",
    "        \"You are a helpful chatbot who is tasked with answering questions about the contents of the Plan and Building Law. \"\n",
    "        \"Unless otherwise explicitly stated, it is probably fair to assume that questions are about the Plan and Building Law. \"\n",
    "        \"If there is any ambiguity, you probably assume they are about that.\"\n",
    "    )\n",
    ")"
   ]
  },
  {
   "cell_type": "code",
   "execution_count": 10,
   "metadata": {},
   "outputs": [],
   "source": [
    "def reload_llm(model_choice=\"gpt-4\", temperature=0):\n",
    "    if local:\n",
    "        llm = ChatOpenAI(temperature=temperature, streaming=True, model=model_choice, )\n",
    "    else:\n",
    "        llm = ChatOpenAI(temperature=temperature, streaming=True, model=model_choice, openai_api_key=st.secrets[\"openai_api_key\"])\n",
    "\n",
    "    message = system_message\n",
    "\n",
    "    prompt = OpenAIFunctionsAgent.create_prompt(\n",
    "        system_message=message,\n",
    "        extra_prompt_messages=[MessagesPlaceholder(variable_name=\"history\")],\n",
    "    )\n",
    "\n",
    "    tool = create_retriever_tool(\n",
    "        configure_retriever(),\n",
    "        \"search_plan_and_building_law\",\n",
    "        \"Search Plan and Building Law. This tool should be used when you want to get information from the Plan and Building Law.\"\n",
    "    )\n",
    "    tools = [tool]\n",
    "\n",
    "    agent = OpenAIFunctionsAgent(llm=llm, tools=tools, prompt=prompt)\n",
    "    agent_executor = AgentExecutor(\n",
    "        agent=agent,\n",
    "        tools=tools,\n",
    "        verbose=True,\n",
    "        return_intermediate_steps=True,\n",
    "    )\n",
    "    memory = AgentTokenBufferMemory(llm=llm)\n",
    "    print (\"Reloaded LLM\")\n",
    "    return agent_executor, memory, llm\n"
   ]
  },
  {
   "cell_type": "code",
   "execution_count": 11,
   "metadata": {},
   "outputs": [
    {
     "name": "stdout",
     "output_type": "stream",
     "text": [
      "loading from disk: PlanAndBuilding_chroma_db\n",
      "Reloaded LLM\n"
     ]
    }
   ],
   "source": [
    "agent_executor, memory, llm = reload_llm()"
   ]
  }
 ],
 "metadata": {
  "kernelspec": {
   "display_name": "Python 3",
   "language": "python",
   "name": "python3"
  },
  "language_info": {
   "codemirror_mode": {
    "name": "ipython",
    "version": 3
   },
   "file_extension": ".py",
   "mimetype": "text/x-python",
   "name": "python",
   "nbconvert_exporter": "python",
   "pygments_lexer": "ipython3",
   "version": "3.10.10"
  },
  "orig_nbformat": 4
 },
 "nbformat": 4,
 "nbformat_minor": 2
}
