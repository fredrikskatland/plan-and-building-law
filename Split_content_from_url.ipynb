{
 "cells": [
  {
   "cell_type": "code",
   "execution_count": null,
   "metadata": {},
   "outputs": [],
   "source": [
    "import requests\n",
    "from bs4 import BeautifulSoup\n",
    "import os"
   ]
  },
  {
   "cell_type": "code",
   "execution_count": 17,
   "metadata": {},
   "outputs": [],
   "source": [
    "\n",
    "def sanitize_filename(filename):\n",
    "    \"\"\"Sanitize the filename by removing or replacing invalid characters.\"\"\"\n",
    "    invalid_chars = ['<', '>', ':', '\"', '/', '\\\\', '|', '?', '*','\\r', '\\n',' ']\n",
    "    for char in invalid_chars:\n",
    "        filename = filename.replace(char, '_')\n",
    "    return filename\n",
    "\n",
    "def save_content_to_file(directory, title, content):\n",
    "    \"\"\"Saves the content to a file in the specified directory.\"\"\"\n",
    "    # Ensure the directory exists\n",
    "    if not os.path.exists(directory):\n",
    "        os.makedirs(directory)\n",
    "\n",
    "    # Convert title to a valid filename\n",
    "    sanitized_title = sanitize_filename(title)\n",
    "    filename = os.path.join(directory, sanitized_title.replace(' ', '_').replace('.', '').replace(':', '') + '.txt')\n",
    "    with open(filename, 'w', encoding='utf-8') as file:\n",
    "        file.write(content)\n",
    "\n",
    "def split_and_save_by_tags(url):\n",
    "    response = requests.get(url)\n",
    "    soup = BeautifulSoup(response.content, 'html.parser')\n",
    "\n",
    "    # For parts\n",
    "    for part in soup.find_all('h1'):\n",
    "        title = part.get_text()\n",
    "        content = title\n",
    "        for sibling in part.find_all_next():\n",
    "            if sibling.name and sibling.name.startswith('h1'):\n",
    "                break\n",
    "            content += '\\n' + sibling.get_text()\n",
    "        save_content_to_file('./parts', title, content)\n",
    "\n",
    "    # For chapters\n",
    "    for chapter in soup.find_all('h2'):\n",
    "        title = chapter.get_text()\n",
    "        content = title\n",
    "        for sibling in chapter.find_all_next():\n",
    "            if sibling.name and (sibling.name.startswith('h1') or sibling.name.startswith('h2')):\n",
    "                break\n",
    "            content += '\\n' + sibling.get_text()\n",
    "        save_content_to_file('./chapters', title, content)\n",
    "\n",
    "    # For sections\n",
    "    for section in soup.find_all('h3'):\n",
    "        title = section.get_text()\n",
    "        content = title\n",
    "        for sibling in section.find_all_next():\n",
    "            if sibling.name and (sibling.name.startswith('h1') or sibling.name.startswith('h2') or sibling.name.startswith('h3')):\n",
    "                break\n",
    "            content += '\\n' + sibling.get_text()\n",
    "        save_content_to_file('./sections', title, content)"
   ]
  },
  {
   "cell_type": "code",
   "execution_count": 18,
   "metadata": {},
   "outputs": [],
   "source": [
    "url = 'https://www.regjeringen.no/en/dokumenter/planning-building-act/id570450/'\n",
    "split_and_save_by_tags(url)\n"
   ]
  },
  {
   "cell_type": "code",
   "execution_count": null,
   "metadata": {},
   "outputs": [],
   "source": []
  }
 ],
 "metadata": {
  "kernelspec": {
   "display_name": "Python 3",
   "language": "python",
   "name": "python3"
  },
  "language_info": {
   "codemirror_mode": {
    "name": "ipython",
    "version": 3
   },
   "file_extension": ".py",
   "mimetype": "text/x-python",
   "name": "python",
   "nbconvert_exporter": "python",
   "pygments_lexer": "ipython3",
   "version": "3.10.10"
  },
  "orig_nbformat": 4
 },
 "nbformat": 4,
 "nbformat_minor": 2
}
